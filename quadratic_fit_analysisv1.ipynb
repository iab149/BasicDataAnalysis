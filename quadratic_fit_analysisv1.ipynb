{
 "cells": [
  {
   "cell_type": "code",
   "execution_count": null,
   "id": "32811290",
   "metadata": {},
   "outputs": [],
   "source": [
    "import pandas as pd\n",
    "import numpy as np\n",
    "import matplotlib.pyplot as plt\n",
    "from sklearn.metrics import mean_squared_error, r2_score\n",
    "from scipy.optimize import curve_fit\n",
    "import ipywidgets as widgets\n",
    "from IPython.display import display, clear_output\n"
   ]
  },
  {
   "cell_type": "code",
   "execution_count": null,
   "id": "c0a8ac1e",
   "metadata": {},
   "outputs": [],
   "source": [
    "# Load the Excel file\n",
    "file_path = 'your_input_file.xlsx'  # Replace with your actual file path\n",
    "df = pd.read_excel(file_path, engine='openpyxl')\n",
    "\n",
    "# Display the first few rows\n",
    "df.head()\n"
   ]
  },
  {
   "cell_type": "code",
   "execution_count": null,
   "id": "8173d7a8",
   "metadata": {},
   "outputs": [],
   "source": [
    "# Create dropdowns for selecting X and Y columns\n",
    "x_dropdown = widgets.Dropdown(options=df.columns, description='X Column:')\n",
    "y_dropdown = widgets.Dropdown(options=df.columns, description='Y Column:')\n",
    "display(x_dropdown, y_dropdown)\n"
   ]
  },
  {
   "cell_type": "code",
   "execution_count": null,
   "id": "47a528f9",
   "metadata": {},
   "outputs": [],
   "source": [
    "# Function to plot selected columns\n",
    "def plot_selected_columns(x_col, y_col):\n",
    "    plt.figure(figsize=(8, 5))\n",
    "    plt.scatter(df[x_col], df[y_col], color='blue', label='Data')\n",
    "    plt.xlabel(x_col)\n",
    "    plt.ylabel(y_col)\n",
    "    plt.title('Preliminary Plot')\n",
    "    plt.legend()\n",
    "    plt.grid(True)\n",
    "    plt.show()\n",
    "\n",
    "# Plot the data\n",
    "plot_selected_columns(x_dropdown.value, y_dropdown.value)\n"
   ]
  },
  {
   "cell_type": "code",
   "execution_count": null,
   "id": "e1819d24",
   "metadata": {},
   "outputs": [],
   "source": [
    "# Define quadratic function\n",
    "def quadratic(x, a, b, c):\n",
    "    return a * x**2 + b * x + c\n",
    "\n",
    "# Extract selected columns\n",
    "x_data = df[x_dropdown.value].values\n",
    "y_data = df[y_dropdown.value].values\n",
    "\n",
    "# Fit the data\n",
    "params, _ = curve_fit(quadratic, x_data, y_data)\n",
    "a, b, c = params\n",
    "\n",
    "# Generate fitted values\n",
    "y_fit = quadratic(x_data, a, b, c)\n",
    "\n",
    "# Plot original and fitted data\n",
    "plt.figure(figsize=(8, 5))\n",
    "plt.scatter(x_data, y_data, color='blue', label='Original Data')\n",
    "plt.plot(x_data, y_fit, color='red', label='Quadratic Fit')\n",
    "plt.xlabel(x_dropdown.value)\n",
    "plt.ylabel(y_dropdown.value)\n",
    "plt.title('Quadratic Fit')\n",
    "plt.legend()\n",
    "plt.grid(True)\n",
    "plt.show()\n"
   ]
  },
  {
   "cell_type": "code",
   "execution_count": null,
   "id": "5e5a4742",
   "metadata": {},
   "outputs": [],
   "source": [
    "# Calculate error statistics\n",
    "mse = mean_squared_error(y_data, y_fit)\n",
    "r2 = r2_score(y_data, y_fit)\n",
    "\n",
    "print(f\"Mean Squared Error (MSE): {mse:.4f}\")\n",
    "print(f\"R-squared (R²): {r2:.4f}\")\n"
   ]
  }
 ],
 "metadata": {},
 "nbformat": 4,
 "nbformat_minor": 5
}
